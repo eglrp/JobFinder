{
 "nbformat": 4,
 "nbformat_minor": 2,
 "metadata": {
  "language_info": {
   "name": "python",
   "codemirror_mode": {
    "name": "ipython",
    "version": 3
   },
   "version": "3.6.8-final"
  },
  "orig_nbformat": 2,
  "file_extension": ".py",
  "mimetype": "text/x-python",
  "name": "python",
  "npconvert_exporter": "python",
  "pygments_lexer": "ipython3",
  "version": 3,
  "kernelspec": {
   "name": "python36864bitcrawlerconda7a2fd74b1c7641f9979f7886e5f1eae8",
   "display_name": "Python 3.6.8 64-bit ('crawler': conda)"
  }
 },
 "cells": [
  {
   "cell_type": "markdown",
   "metadata": {},
   "source": [
    "# 链表训练"
   ]
  },
  {
   "cell_type": "code",
   "execution_count": 5,
   "metadata": {},
   "outputs": [
    {
     "name": "stdout",
     "output_type": "stream",
     "text": "1\n1\n"
    }
   ],
   "source": [
    "class ListNode:\n",
    "    def __init__(self, x):\n",
    "        self.val = x\n",
    "        self.next = None\n",
    "\n",
    "a = ListNode(1)\n",
    "print(a.val)\n",
    "print(a.val)\n",
    "class Solution:\n",
    "    def FindKthToTail(self, head, k):\n",
    "        # write code here\n",
    "        if(k < 1 or head == None):\n",
    "            return None\n",
    "        fast = head\n",
    "        low = head\n",
    "        for i in range(k-1):\n",
    "            fast = fast.next\n",
    "        while(fast):\n",
    "            fast = fast.next\n",
    "            low = low.next\n",
    "        return low"
   ]
  },
  {
   "cell_type": "markdown",
   "metadata": {},
   "source": [
    "# 二叉树练习"
   ]
  },
  {
   "cell_type": "code",
   "execution_count": 7,
   "metadata": {},
   "outputs": [],
   "source": [
    "#重建二叉树\n",
    "# -*- coding:utf-8 -*-\n",
    "# class TreeNode:\n",
    "#     def __init__(self, x):\n",
    "#         self.val = x\n",
    "#         self.left = None\n",
    "#         self.right = None\n",
    "class Solution:\n",
    "    # 返回构造的TreeNode根节点\n",
    "    def reConstructBinaryTree(self, pre, tin):\n",
    "        # write code here\n",
    "        if(len(pre)==0):\n",
    "            return None\n",
    "        elif(len(pre)==1):\n",
    "            return TreeNode(pre[0])\n",
    "        else:\n",
    "            root = TreeNode(pre[0])\n",
    "            pos = tin.index(pre[0])\n",
    "            root.left = self.reConstructBinaryTree(pre[1:pos+1],tin[:pos])\n",
    "            root.right = self.reConstructBinaryTree(pre[pos+1:],tin[pos+1:])\n",
    "        return root"
   ]
  },
  {
   "cell_type": "code",
   "execution_count": 17,
   "metadata": {},
   "outputs": [
    {
     "data": {
      "text/plain": "{'a', 'd', 'h', 's'}"
     },
     "execution_count": 17,
     "metadata": {},
     "output_type": "execute_result"
    }
   ],
   "source": [
    "# 树的子结构\n",
    "# 输入两棵二叉树A，B，判断B是不是A的子结构。（ps：我们约定空树不是任意一个树的子结构）\n",
    "# -*- coding:utf-8 -*-\n",
    "# class TreeNode:\n",
    "#     def __init__(self, x):\n",
    "#         self.val = x\n",
    "#         self.left = None\n",
    "#         self.right = None\n",
    "class Solution:\n",
    "    def HasSubtree(self, pRoot1, pRoot2):\n",
    "        # write code here\n",
    "        if(pRoot1 == None or pRoot2 == None):\n",
    "            return False\n",
    "        else:\n",
    "            return self.sameroot(pRoot1,pRoot2) or self.HasSubtree(pRoot1.left,pRoot2) or self.HasSubtree(pRoot1.right,pRoot2)\n",
    "\n",
    "#判断这两个根下面是否是一样的子树\n",
    "    def sameroot(self,p1,p2):\n",
    "        if not p2:\n",
    "            return True\n",
    "        if not p1 or p1.val!=p2.val:\n",
    "            return False\n",
    "        else:\n",
    "            return self.sameroot(p1.left,p2.left) and self.sameroot(p1.right,p2.right)"
   ]
  },
  {
   "cell_type": "code",
   "execution_count": 6,
   "metadata": {},
   "outputs": [],
   "source": [
    "class Solution:\n",
    "    def HasSubtree(self, pRoot1, pRoot2):\n",
    "        # write code here\n",
    "        if(pRoot1 == None or pRoot2 == None):\n",
    "            return False\n",
    "        if(self.sameroot(pRoot1,pRoot2)):##是子结构吗\n",
    "            return True\n",
    "        elif(self.HasSubtree(pRoot1.left,pRoot2)):##找左子树\n",
    "            return True\n",
    "        elif(self.HasSubtree(pRoot1.right,pRoot2)):##找右子树\n",
    "            return True\n",
    "        else:\n",
    "            return False\n",
    "    def sameroot(self,p1,p2):\n",
    "        if not p2:\n",
    "            return True\n",
    "        if not p1 or p1.val!=p2.val:\n",
    "            return False\n",
    "        else:\n",
    "            return self.sameroot(p1.left,p2.left) and self.sameroot(p1.right,p2.right)"
   ]
  },
  {
   "cell_type": "code",
   "execution_count": 8,
   "metadata": {},
   "outputs": [],
   "source": [
    "##二叉树的镜像\n",
    "class Solution:\n",
    "    # 返回镜像树的根节点\n",
    "    def Mirror(self, root):\n",
    "        # write code here\n",
    "        if not root:\n",
    "            return None\n",
    "        if(root.left == None and root.right == None):\n",
    "            return root\n",
    "        if root.left or root.right:\n",
    "            root.left,root.right = root.right,root.left\n",
    "            self.Mirror(root.left)\n",
    "            self.Mirror(root.right)\n",
    "        return root"
   ]
  },
  {
   "cell_type": "code",
   "execution_count": 9,
   "metadata": {},
   "outputs": [],
   "source": [
    "#从上往下打印二叉树\n",
    "# -*- coding:utf-8 -*-\n",
    "# class TreeNode:\n",
    "#     def __init__(self, x):\n",
    "#         self.val = x\n",
    "#         self.left = None\n",
    "#         self.right = None\n",
    "class Solution:\n",
    "    # 返回从上到下每个节点值列表，例：[1,2,3]\n",
    "    def PrintFromTopToBottom(self, root):\n",
    "        # write code here\n",
    "        if not root:\n",
    "            return []\n",
    "        result = []\n",
    "        arr = [root]\n",
    "        while len(arr):\n",
    "            cur = arr.pop(0)\n",
    "            result.append(cur.val)\n",
    "            if(cur.left):\n",
    "                arr.append(cur.left)\n",
    "            if(cur.right):\n",
    "                arr.append(cur.right)\n",
    "        return result\n",
    "##用队列,放进去一个就把左右两个插在后面."
   ]
  },
  {
   "cell_type": "code",
   "execution_count": 10,
   "metadata": {},
   "outputs": [],
   "source": [
    "#二叉树的深度\n",
    "class Solution:\n",
    "    def TreeDepth(self, pRoot):\n",
    "        # write code here\n",
    "        if not pRoot:\n",
    "            return 0\n",
    "        left = self.TreeDepth(pRoot.left)\n",
    "        right = self.TreeDepth(pRoot.right)\n",
    "        return left+1 if left>right else right+1"
   ]
  },
  {
   "cell_type": "code",
   "execution_count": 12,
   "metadata": {},
   "outputs": [],
   "source": [
    "#二叉树的下一个结点\n",
    "class Solution:\n",
    "    def GetNext(self, pNode):\n",
    "        # write code here\n",
    "        if not pNode:\n",
    "            return None\n",
    "        if pNode.right:\n",
    "            result = pNode.right\n",
    "            while(result.left):\n",
    "                result = result.left\n",
    "            return result\n",
    "        else:\n",
    "            if(pNode.next == None):#根节点\n",
    "                return pNode.right\n",
    "            elif(pNode.next.left == pNode):#左节点\n",
    "                return pNode.next\n",
    "            elif(pNode.next.right == pNode):#右节点\n",
    "                while(pNode.next):\n",
    "                    if pNode.next.right == pNode:\n",
    "                        pNode = pNode.next\n",
    "                    else:break\n",
    "                if pNode.next:\n",
    "                    if pNode.next.left:\n",
    "                        result = pNode.next\n",
    "                        return result\n",
    "                else:return None"
   ]
  },
  {
   "cell_type": "code",
   "execution_count": 19,
   "metadata": {},
   "outputs": [],
   "source": [
    "#58.对称的二叉树\n",
    "class Solution:\n",
    "    def isSymmetrical(self, pRoot):\n",
    "        # write code here\n",
    "        def is_same(p1,p2):\n",
    "            if not p1 and not p2:\n",
    "                return True\n",
    "            if (p1 and p2) and p1.val==p2.val:\n",
    "                return is_same(p1.left,p2.right) and is_same(p1.right,p2.left)##对比左右\n",
    "            return False\n",
    "        \n",
    "        if not pRoot:\n",
    "            return True\n",
    "        if (pRoot.left and not pRoot.right) or (not pRoot.left and pRoot.right):\n",
    "            return False\n",
    "        return is_same(pRoot.left,pRoot.right)"
   ]
  },
  {
   "cell_type": "code",
   "execution_count": 20,
   "metadata": {},
   "outputs": [
    {
     "ename": "TypeError",
     "evalue": "'builtin_function_or_method' object is not subscriptable",
     "output_type": "error",
     "traceback": [
      "\u001b[0;31m---------------------------------------------------------------------------\u001b[0m",
      "\u001b[0;31mTypeError\u001b[0m                                 Traceback (most recent call last)",
      "\u001b[0;32m<ipython-input-20-ebdeee338403>\u001b[0m in \u001b[0;36m<module>\u001b[0;34m\u001b[0m\n\u001b[1;32m      1\u001b[0m \u001b[0marr\u001b[0m \u001b[0;34m=\u001b[0m \u001b[0;34m\"111\"\u001b[0m\u001b[0;34m\u001b[0m\u001b[0;34m\u001b[0m\u001b[0m\n\u001b[0;32m----> 2\u001b[0;31m \u001b[0mlen\u001b[0m\u001b[0;34m[\u001b[0m\u001b[0marr\u001b[0m\u001b[0;34m]\u001b[0m\u001b[0;34m\u001b[0m\u001b[0;34m\u001b[0m\u001b[0m\n\u001b[0m",
      "\u001b[0;31mTypeError\u001b[0m: 'builtin_function_or_method' object is not subscriptable"
     ]
    }
   ],
   "source": [
    "#59.按之字形打印二叉树\n",
    "## 和上面那题打印的方法不同,需要两个zhan"
   ]
  },
  {
   "cell_type": "code",
   "execution_count": null,
   "metadata": {},
   "outputs": [],
   "source": []
  }
 ]
}