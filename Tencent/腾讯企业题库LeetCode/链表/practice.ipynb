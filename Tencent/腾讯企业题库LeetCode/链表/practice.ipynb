{
 "nbformat": 4,
 "nbformat_minor": 2,
 "metadata": {
  "language_info": {
   "name": "python",
   "codemirror_mode": {
    "name": "ipython",
    "version": 3
   },
   "version": "3.6.8-final"
  },
  "orig_nbformat": 2,
  "file_extension": ".py",
  "mimetype": "text/x-python",
  "name": "python",
  "npconvert_exporter": "python",
  "pygments_lexer": "ipython3",
  "version": 3,
  "kernelspec": {
   "name": "python36864bitcrawlerconda7a2fd74b1c7641f9979f7886e5f1eae8",
   "display_name": "Python 3.6.8 64-bit ('crawler': conda)"
  }
 },
 "cells": [
  {
   "cell_type": "code",
   "execution_count": null,
   "metadata": {},
   "outputs": [],
   "source": [
    "## 21.合并两个有序链表\n",
    "## 将两个有序链表合并为一个新的有序链表并返回。新链表是通过拼接给定的两个链表的所有节点组成的。 \n",
    "# Definition for singly-linked list.\n",
    "class ListNode:\n",
    "    def __init__(self, x):\n",
    "        self.val = x\n",
    "        self.next = None\n",
    "\n",
    "class Solution:\n",
    "    def mergeTwoLists(self, l1: ListNode, l2: ListNode) -> ListNode:\n",
    "        if l1 and l2:\n",
    "            if l1.val>l2.val:l1,l2 = l2,l1\n",
    "            l1.next = self.mergeTwoLists(l1.next,l2)\n",
    "        return l1 or l2\n",
    "\n"
   ]
  },
  {
   "cell_type": "code",
   "execution_count": null,
   "metadata": {},
   "outputs": [],
   "source": [
    "## 23.合并k个排序序列\n",
    "## 合并 k 个排序链表，返回合并后的排序链表。请分析和描述算法的复杂度。\n",
    "class Solution:\n",
    "    def mergeKLists(self, lists: List[ListNode]) -> ListNode:\n",
    "        if not lists:return \n",
    "        n = len(lists)\n",
    "        return self.merge(lists, 0, n-1)\n",
    "    def merge(self,lists, left, right):\n",
    "        if left == right:\n",
    "            return lists[left]\n",
    "        mid = left + (right - left) // 2\n",
    "        l1 = self.merge(lists, left, mid)\n",
    "        l2 = self.merge(lists, mid+1, right)\n",
    "        return self.mergeTwoLists(l1, l2)\n",
    "    def mergeTwoLists(self, l1: ListNode, l2: ListNode) -> ListNode:\n",
    "        if l1 and l2:\n",
    "            if l1.val>l2.val:l1,l2 = l2,l1\n",
    "            l1.next = self.mergeTwoLists(l1.next,l2)\n",
    "        return l1 or l2"
   ]
  },
  {
   "cell_type": "code",
   "execution_count": 20,
   "metadata": {},
   "outputs": [],
   "source": [
    "## 61. 旋转链表\n",
    "class Solution:\n",
    "    def rotateRight(self, head: ListNode, k: int) -> ListNode:\n",
    "        if not head:return\n",
    "        head_cal = head\n",
    "        lens = 1\n",
    "        while(head_cal.next):\n",
    "            lens += 1\n",
    "            head_cal=head_cal.next\n",
    "        head_cal.next = head\n",
    "        k = k % lens\n",
    "        k = lens -k\n",
    "        for i in range(k):\n",
    "            if(i!=k-1):\n",
    "                head = head.next\n",
    "            else:\n",
    "                temp = head\n",
    "                head = head.next\n",
    "                temp.next = None\n",
    "        return head\n",
    "        "
   ]
  },
  {
   "cell_type": "code",
   "execution_count": 21,
   "metadata": {},
   "outputs": [
    {
     "data": {
      "text/plain": "0"
     },
     "execution_count": 21,
     "metadata": {},
     "output_type": "execute_result"
    }
   ],
   "source": [
    "## 141.环形链表\n",
    "# Definition for singly-linked list.\n",
    "# class ListNode:\n",
    "#     def __init__(self, x):\n",
    "#         self.val = x\n",
    "#         self.next = None\n",
    "## 快慢指针法\n",
    "class Solution:\n",
    "    def hasCycle(self, head: ListNode) -> bool:\n",
    "        if not (head and head.next):return False\n",
    "        head_fast , head_slow = head.next ,head\n",
    "        while(head_fast!=head_slow):\n",
    "            if(head_fast == None or head_fast.next == None):\n",
    "                return False\n",
    "            head_fast = head_fast.next.next\n",
    "            head_slow = head_slow.next\n",
    "        return True\n",
    "        "
   ]
  },
  {
   "cell_type": "code",
   "execution_count": 44,
   "metadata": {},
   "outputs": [],
   "source": [
    "## 142.环形链表\n",
    "class Solution(object):\n",
    "    def detectCycle(self, head):\n",
    "        visited = set()\n",
    "\n",
    "        node = head\n",
    "        while node is not None:\n",
    "            if node in visited:\n",
    "                return node\n",
    "            else:\n",
    "                visited.add(node)\n",
    "                node = node.next\n",
    "        return None\n",
    "        "
   ]
  },
  {
   "cell_type": "code",
   "execution_count": 43,
   "metadata": {},
   "outputs": [],
   "source": [
    "## 160.相交链表\n",
    "## 编写一个程序，找到两个单链表相交的起始节点。\n",
    "class Solution(object):\n",
    "    def getIntersectionNode(self, headA, headB):\n",
    "        ha, hb = headA, headB\n",
    "        while ha != hb:\n",
    "            ha = ha.next if ha else headB\n",
    "            hb = hb.next if hb else headA\n",
    "        return ha\n"
   ]
  },
  {
   "cell_type": "code",
   "execution_count": 45,
   "metadata": {},
   "outputs": [],
   "source": [
    "## 237. 删除链表中的节点\n",
    "# Definition for singly-linked list.\n",
    "# class ListNode:\n",
    "#     def __init__(self, x):\n",
    "#         self.val = x\n",
    "#         self.next = None\n",
    "\n",
    "class Solution:\n",
    "    def deleteNode(self, node):\n",
    "        \"\"\"\n",
    "        :type node: ListNode\n",
    "        :rtype: void Do not return anything, modify node in-place instead.\n",
    "        \"\"\"\n",
    "        node.val = node.next.val\n",
    "        node.next = node.next.next"
   ]
  }
 ]
}