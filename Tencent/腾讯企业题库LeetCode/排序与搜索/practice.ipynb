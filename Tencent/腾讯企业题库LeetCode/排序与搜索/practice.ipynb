{
 "nbformat": 4,
 "nbformat_minor": 2,
 "metadata": {
  "language_info": {
   "name": "python",
   "codemirror_mode": {
    "name": "ipython",
    "version": 3
   },
   "version": "3.6.8-final"
  },
  "orig_nbformat": 2,
  "file_extension": ".py",
  "mimetype": "text/x-python",
  "name": "python",
  "npconvert_exporter": "python",
  "pygments_lexer": "ipython3",
  "version": 3,
  "kernelspec": {
   "name": "python36864bitcrawlerconda7a2fd74b1c7641f9979f7886e5f1eae8",
   "display_name": "Python 3.6.8 64-bit ('crawler': conda)"
  }
 },
 "cells": [
  {
   "cell_type": "code",
   "execution_count": 4,
   "metadata": {},
   "outputs": [],
   "source": [
    "## 148.排序链表\n",
    "# Definition for singly-linked list.\n",
    "class ListNode:\n",
    "    def __init__(self, x):\n",
    "        self.val = x\n",
    "        self.next = None\n",
    "\n",
    "class Solution:\n",
    "    def sortList(self, head: ListNode) -> ListNode:\n",
    "        if(head == None):return None\n",
    "        if(head.next != None): self.sortList(head.next)\n",
    "        tmp = head\n",
    "        while(1):\n",
    "            if tmp.next==None or tmp == None: return head\n",
    "            if tmp.val > tmp.next.val:\n",
    "                tmp.val,tmp.next.val = tmp.next.val,tmp.val\n",
    "                tmp = tmp.next\n",
    "            else: return head\n",
    "        return head\n",
    "'''\n",
    "递归冒泡会超时.\n",
    "'''"
   ]
  },
  {
   "cell_type": "code",
   "execution_count": 11,
   "metadata": {},
   "outputs": [],
   "source": [
    "## 148.排序链表\n",
    "# Definition for singly-linked list.\n",
    "class ListNode:\n",
    "    def __init__(self, x):\n",
    "        self.val = x\n",
    "        self.next = None\n",
    "\n",
    "class Solution:\n",
    "    def sortList(self,head:ListNode) -> ListNode:\n",
    "        res=[]\n",
    "        node1 = head\n",
    "        node2 = head\n",
    "        \n",
    "        while(node1):\n",
    "            res.append(node1.val)\n",
    "            node1 = node1.next\n",
    "        res = sorted(res)\n",
    "        for i in res:\n",
    "            node2.val = i\n",
    "            node2 = node2.next\n",
    "        return head\n"
   ]
  },
  {
   "cell_type": "code",
   "execution_count": 13,
   "metadata": {},
   "outputs": [
    {
     "ename": "SyntaxError",
     "evalue": "unexpected EOF while parsing (<ipython-input-13-fc46eb44ccff>, line 6)",
     "output_type": "error",
     "traceback": [
      "\u001b[0;36m  File \u001b[0;32m\"<ipython-input-13-fc46eb44ccff>\"\u001b[0;36m, line \u001b[0;32m6\u001b[0m\n\u001b[0;31m    \u001b[0m\n\u001b[0m    ^\u001b[0m\n\u001b[0;31mSyntaxError\u001b[0m\u001b[0;31m:\u001b[0m unexpected EOF while parsing\n"
     ]
    }
   ],
   "source": [
    "## 33.搜索旋转排序数组\n",
    "## 你的算法时间复杂度必须是 O(logn) 级别。\n",
    "## 你可以假设数组中不存在重复的元素。\n",
    "class Solution:\n",
    "    def search(self, nums: List[int], target: int) -> int:\n",
    "        if len(nums)<1:return -1\n",
    "        #二分查找\n",
    "        def two_find(m,n):\n",
    "            if m>n:return -1\n",
    "            mid = (m+n)//2\n",
    "            if nums[mid]==target:\n",
    "                return mid\n",
    "            elif nums[mid]>target:\n",
    "                return two_find(m,mid-1)\n",
    "            else:return two_find(mid+1,n)\n",
    "        #找旋转点，返回最大值处\n",
    "        def find_max(m,n):\n",
    "            mid = (m+n)//2\n",
    "            if nums[mid]>nums[mid+1]:return mid\n",
    "            elif nums[mid]>=nums[0]:return find_max(mid+1,n)\n",
    "            else: return find_max(m,mid-1)\n",
    "        \n",
    "        if nums[0]<=nums[-1]:#如果数组没有旋转!(\"=\"是为了在nums长度为1时也能算进此)\n",
    "            if target>=nums[0] and target<=nums[-1]:return two_find(0,len(nums)-1)\n",
    "            else:return -1\n",
    "        else:\n",
    "            index_max = find_max(0,len(nums)-1)\n",
    "            if target>=nums[0] and target<=nums[index_max]:return two_find(0,index_max)\n",
    "            elif target>=nums[index_max+1] and target<=nums[len(nums)-1]:return two_find(index_max+1,len(nums)-1)\n",
    "            else:return -1\n"
   ]
  },
  {
   "cell_type": "code",
   "execution_count": 31,
   "metadata": {},
   "outputs": [
    {
     "data": {
      "text/plain": "10"
     },
     "execution_count": 31,
     "metadata": {},
     "output_type": "execute_result"
    }
   ],
   "source": [
    "class Solution:\n",
    "    def find_one(self,nums,l,r) -> int:\n",
    "        mid = int(len(nums)/2)\n",
    "        if(mid == 0):return nums[mid]\n",
    "        if(nums[0]>nums[mid]):return self.find_one(nums,0,)\n",
    "        else:return self.find_one(nums[mid:])\n",
    "\n",
    "t= [4,5,6,7,10,0,1,2,3]\n",
    "sol = Solution()\n",
    "sol.find_one(t)"
   ]
  },
  {
   "cell_type": "code",
   "execution_count": 14,
   "metadata": {},
   "outputs": [],
   "source": [
    "## 215.数组中第K个最大元素\n",
    "class Solution:\n",
    "    def findKthLargest(self, nums: List[int], k: int) -> int:\n",
    "        nums = sorted(nums,reverse = True)\n",
    "        return nums[k-1]\n",
    "'''\n",
    "这种太简单了,换一种做法\n",
    "'''"
   ]
  },
  {
   "cell_type": "code",
   "execution_count": 41,
   "metadata": {},
   "outputs": [],
   "source": [
    "## 215.数组中第K个最大元素\n",
    "\n",
    "t= [4,5,6,7,10,0,1,2,3]\n",
    "t = sorted(t,reverse =True)"
   ]
  },
  {
   "cell_type": "code",
   "execution_count": 38,
   "metadata": {},
   "outputs": [
    {
     "name": "stdout",
     "output_type": "stream",
     "text": "Help on built-in function sorted in module builtins:\n\nsorted(iterable, /, *, key=None, reverse=False)\n    Return a new list containing all items from the iterable in ascending order.\n    \n    A custom key function can be supplied to customize the sort order, and the\n    reverse flag can be set to request the result in descending order.\n\n"
    }
   ],
   "source": [
    "help(sorted)"
   ]
  },
  {
   "cell_type": "code",
   "execution_count": null,
   "metadata": {},
   "outputs": [],
   "source": []
  }
 ]
}