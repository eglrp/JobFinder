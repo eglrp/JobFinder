{
 "nbformat": 4,
 "nbformat_minor": 2,
 "metadata": {
  "language_info": {
   "name": "python",
   "codemirror_mode": {
    "name": "ipython",
    "version": 3
   },
   "version": "3.6.8-final"
  },
  "orig_nbformat": 2,
  "file_extension": ".py",
  "mimetype": "text/x-python",
  "name": "python",
  "npconvert_exporter": "python",
  "pygments_lexer": "ipython3",
  "version": 3,
  "kernelspec": {
   "name": "python36864bitcrawlerconda7a2fd74b1c7641f9979f7886e5f1eae8",
   "display_name": "Python 3.6.8 64-bit ('crawler': conda)"
  }
 },
 "cells": [
  {
   "cell_type": "code",
   "execution_count": 15,
   "metadata": {},
   "outputs": [
    {
     "data": {
      "text/plain": "351"
     },
     "execution_count": 15,
     "metadata": {},
     "output_type": "execute_result"
    }
   ],
   "source": [
    "## 7.整数反转\n",
    "class Solution:\n",
    "    def reverse(self, x: int) -> int:\n",
    "        if (x <= (-2)**(31)) or (x >=(2)**(31) -1): return 0\n",
    "        res = int(str(abs(x))[::-1])\n",
    "        if x <= 0: res *= -1\n",
    "        if (res <= (-2)**(31)) or (res >=(2)**(31) -1):return 0\n",
    "        return res\n",
    "\n",
    "t = 153\n",
    "sol = Solution()\n",
    "sol.reverse(t)"
   ]
  },
  {
   "cell_type": "code",
   "execution_count": 12,
   "metadata": {},
   "outputs": [
    {
     "data": {
      "text/plain": "2147483648"
     },
     "execution_count": 12,
     "metadata": {},
     "output_type": "execute_result"
    }
   ],
   "source": [
    "## 9.回文数\n",
    "class Solution:\n",
    "    def isPalindrome(self, x: int) -> bool:\n",
    "        return True if str(x) == str(x)[::-1] else False"
   ]
  },
  {
   "cell_type": "code",
   "execution_count": 24,
   "metadata": {},
   "outputs": [],
   "source": [
    "## 136.只出现一次的数字\n",
    "class Solution:\n",
    "    def singleNumber(self, nums: list) -> int:\n",
    "        nums = sorted(nums)\n",
    "        lens = len(nums)\n",
    "        for i in range(0,lens,2):\n",
    "            if nums[i] != nums[i+1]:return nums[i+1]\n",
    "\n",
    "            "
   ]
  },
  {
   "cell_type": "code",
   "execution_count": 22,
   "metadata": {},
   "outputs": [
    {
     "name": "stdout",
     "output_type": "stream",
     "text": "0\n2\n4\n6\n8\n"
    }
   ],
   "source": [
    "## 136.只出现一次的数字\n",
    "class Solution(object):\n",
    "    def singleNumber(self, nums):\n",
    "        \"\"\"\n",
    "        :type nums: List[int]\n",
    "        :rtype: int\n",
    "        \"\"\"\n",
    "        hash_table = {}\n",
    "        for i in nums:\n",
    "            try:\n",
    "                hash_table.pop(i)\n",
    "            except:\n",
    "                hash_table[i] = 1\n",
    "        return hash_table.popitem()[0]\n"
   ]
  },
  {
   "cell_type": "code",
   "execution_count": 37,
   "metadata": {},
   "outputs": [
    {
     "data": {
      "text/plain": "2"
     },
     "execution_count": 37,
     "metadata": {},
     "output_type": "execute_result"
    }
   ],
   "source": [
    "## 169.多数元素\n",
    "'''\n",
    "给定一个大小为 n 的数组，找到其中的多数元素。多数元素是指在数组中出现次数大于 ⌊ n/2 ⌋ 的元素。\n",
    "你可以假设数组是非空的，并且给定的数组总是存在多数元素。\n",
    "'''\n",
    "class Solution:\n",
    "    def majorityElement(self, nums:list) -> int:\n",
    "        nums = sorted(nums)\n",
    "        lens = int(len(nums)/2)\n",
    "        for i in range(lens+1):\n",
    "            if(nums[i] == nums[i+lens]):return nums[i]\n",
    "\n",
    "t = [2,2,1,1,1,2,2]\n",
    "sol = Solution()\n",
    "sol.majorityElement(t)"
   ]
  },
  {
   "cell_type": "code",
   "execution_count": 43,
   "metadata": {},
   "outputs": [
    {
     "data": {
      "text/plain": "True"
     },
     "execution_count": 43,
     "metadata": {},
     "output_type": "execute_result"
    }
   ],
   "source": [
    "## 231.2的幂\n",
    "class Solution:\n",
    "    def isPowerOfTwo(self, n: int) -> bool:\n",
    "        while(n!=1):\n",
    "            n , m = divmod(n,2)\n",
    "            if m :return False\n",
    "        return True\n",
    "t = 256\n",
    "sol = Solution()\n",
    "sol.isPowerOfTwo(t)  "
   ]
  },
  {
   "cell_type": "code",
   "execution_count": 41,
   "metadata": {},
   "outputs": [
    {
     "data": {
      "text/plain": "3"
     },
     "execution_count": 41,
     "metadata": {},
     "output_type": "execute_result"
    }
   ],
   "source": [
    "x,y = divmod(10,3)\n",
    "x"
   ]
  },
  {
   "cell_type": "code",
   "execution_count": null,
   "metadata": {},
   "outputs": [],
   "source": []
  }
 ]
}