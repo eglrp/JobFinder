{
 "nbformat": 4,
 "nbformat_minor": 2,
 "metadata": {
  "language_info": {
   "name": "python",
   "codemirror_mode": {
    "name": "ipython",
    "version": 3
   },
   "version": "3.6.8-final"
  },
  "orig_nbformat": 2,
  "file_extension": ".py",
  "mimetype": "text/x-python",
  "name": "python",
  "npconvert_exporter": "python",
  "pygments_lexer": "ipython3",
  "version": 3,
  "kernelspec": {
   "name": "python36864bitcrawlerconda7a2fd74b1c7641f9979f7886e5f1eae8",
   "display_name": "Python 3.6.8 64-bit ('crawler': conda)"
  }
 },
 "cells": [
  {
   "cell_type": "code",
   "execution_count": 31,
   "metadata": {},
   "outputs": [
    {
     "data": {
      "text/plain": "True"
     },
     "execution_count": 31,
     "metadata": {},
     "output_type": "execute_result"
    }
   ],
   "source": [
    "## 20.有效的括号\n",
    "### 给定一个只包括 '('，')'，'{'，'}'，'['，']' 的字符串，判断字符串是否有效。\n",
    "\n",
    "class Solution:\n",
    "    def isValid(self,s:str) -> bool:\n",
    "        a = []\n",
    "        a_loc = -1\n",
    "        lens = len(s)\n",
    "        flag = True\n",
    "        for i in range(lens):\n",
    "            if len(a) == 0:\n",
    "                a.append(s[i])\n",
    "                a_loc+=1\n",
    "                \n",
    "            elif(s[i] == '(' or s[i] =='{' or s[i] =='['):\n",
    "                a.append(s[i])\n",
    "                a_loc+=1\n",
    "            elif(s[i] == ')' or s[i] =='}' or s[i] ==']'):\n",
    "                if(a[a_loc]=='(' and s[i] ==')'):\n",
    "                    del a[a_loc]\n",
    "                    a_loc-=1\n",
    "                elif(a[a_loc]=='{' and s[i] =='}'):\n",
    "                    del a[a_loc]\n",
    "                    a_loc-=1\n",
    "                elif(a[a_loc]=='[' and s[i] ==']'):\n",
    "                    del a[a_loc]\n",
    "                    a_loc-=1\n",
    "                else: return False\n",
    "        if(len(a) == 0):return True\n",
    "        else:return False\n",
    "\n",
    "t = \"[]\"\n",
    "sol = Solution()\n",
    "sol.isValid(t)"
   ]
  },
  {
   "cell_type": "code",
   "execution_count": 48,
   "metadata": {},
   "outputs": [
    {
     "name": "stdout",
     "output_type": "stream",
     "text": "[0, 1]\n"
    },
    {
     "data": {
      "text/plain": "2"
     },
     "execution_count": 48,
     "metadata": {},
     "output_type": "execute_result"
    }
   ],
   "source": [
    "## 26.删除排序数组中的重复项\n",
    "### 给定一个排序数组，你需要在原地删除重复出现的元素，使得每个元素只出现一次，返回移除后数组的新长度。不要使用额外的数组空间，你必须在原地修改输入数组并在使用 O(1) 额外空间的条件下完成。\n",
    "class Solution:\n",
    "    def removeDuplicates(self, nums: list) -> int:\n",
    "        if(len(nums) == 0):return 0\n",
    "        x = 1\n",
    "        nowcheck = nums[0]\n",
    "        len_nums = len(nums) -1\n",
    "        while(len_nums):\n",
    "            len_nums-=1\n",
    "            if(nums[x] != nowcheck):\n",
    "                nowcheck = nums[x]\n",
    "                x+=1\n",
    "            else:del nums[x]\n",
    "\n",
    "        return len(nums)\n",
    "\n",
    "t = [0,0,1,1]\n",
    "sol = Solution()\n",
    "sol.removeDuplicates(t)"
   ]
  },
  {
   "cell_type": "code",
   "execution_count": 49,
   "metadata": {},
   "outputs": [],
   "source": [
    "## 11.盛最多水的容器\n",
    "## 给定 n 个非负整数 a1，a2，...，an，每个数代表坐标中的一个点 (i, ai) 。在坐标内画 n 条垂直线，垂直线 i 的两个端点分别为 (i, ai) 和 (i, 0)。找出其中的两条线，使得它们与 x 轴共同构成的容器可以容纳最多的水\n",
    "class Solution:\n",
    "    def maxArea(self, height : list) -> int:\n",
    "        i = 0\n",
    "        j = len(L)-1\n",
    "        vol = (j-i)*(min(height[i],height[j]))\n",
    "        for line in range(len(L)-1):\n",
    "            if height[i] <= height[j]:\n",
    "                i+=1\n",
    "            else: j-=1\n",
    "            vol_temp = (j-i)*(min(height[i],height[j]))\n",
    "            vol = max(vol,vol_temp)\n",
    "            print(vol)\n",
    "        return vol\n",
    "\n",
    "## 由于面积取决于边长短的那一端假设为m，所以要想得到比当前更大的面积，边长短的那一端必须舍弃，因为如果不舍弃，高最大就是m，而随着指针的移动宽会一直减小，因此面积只会越来越小。"
   ]
  },
  {
   "cell_type": "code",
   "execution_count": 1,
   "metadata": {},
   "outputs": [
    {
     "data": {
      "text/plain": "'123'"
     },
     "execution_count": 1,
     "metadata": {},
     "output_type": "execute_result"
    }
   ],
   "source": [
    "## 43. 字符串相乘\n",
    "## 给定两个以字符串形式表示的非负整数 num1 和 num2，返回 num1 和 num2 的乘积，它们的乘积也表示为字符串形式。\n",
    "class Solution:\n",
    "    def str2int(self,s):\n",
    "        return ord(s)-ord('0')\n",
    "\n",
    "    def multiply(self, num1: str, num2: str) -> str:\n",
    "        a = num1[::-1]\n",
    "        b = num2[::-1]\n",
    "        result = 0\n",
    "    \n",
    "        for i,x in enumerate(a):\n",
    "            temp_result = 0\n",
    "            for j,y in enumerate(b):\n",
    "                temp_result += self.str2int(x) * self.str2int(y) * 10**j\n",
    "            result += temp_result * 10**i\n",
    "        return str(result)\n",
    "\n",
    "t1='123'\n",
    "t2='1'\n",
    "sol = Solution()\n",
    "sol.multiply(t1,t2)\n"
   ]
  },
  {
   "cell_type": "code",
   "execution_count": 9,
   "metadata": {},
   "outputs": [
    {
     "name": "stdout",
     "output_type": "stream",
     "text": "['o', 'l', 'l', 'e', 'h']\n"
    }
   ],
   "source": [
    "## 344. 反转字符串\n",
    "## 编写一个函数，其作用是将输入的字符串反转过来。输入字符串以字符数组 char[] 的形式给出。\n",
    "class Solution:\n",
    "    def reverseString(self, s: list) -> None:\n",
    "        \"\"\"\n",
    "        Do not return anything, modify s in-place instead.\n",
    "        \"\"\"\n",
    "        lens = len(s)\n",
    "        for i in range(int(lens/2)):\n",
    "            temp = s[i]\n",
    "            s[i] = s[lens - i - 1]\n",
    "            s[lens - i - 1] = temp\n",
    "        # print(s)\n",
    "\n",
    "t1=[\"h\",\"e\",\"l\",\"l\",\"o\"]\n",
    "sol = Solution()\n",
    "sol.reverseString(t1)"
   ]
  },
  {
   "cell_type": "code",
   "execution_count": 14,
   "metadata": {},
   "outputs": [
    {
     "data": {
      "text/plain": "\"s'teL ekat edoCteeL tsetnoc\""
     },
     "execution_count": 14,
     "metadata": {},
     "output_type": "execute_result"
    }
   ],
   "source": [
    "## 557.反转字符串中的单词 III\n",
    "## 给定一个字符串，你需要反转字符串中每个单词的字符顺序，同时仍保留空格和单词的初始顺序。\n",
    "t1 = \"Let's take LeetCode contest\"\n",
    "\n",
    "class Solution:\n",
    "    def reverseWords(self, s: str) -> str:\n",
    "        \"\"\"\n",
    "        Do not return anything, modify s in-place instead.\n",
    "        \"\"\"\n",
    "        return ' '.join(s.split(' ')[::-1])[::-1]\n",
    "\n",
    "sol = Solution()\n",
    "sol.reverseWords(t1)"
   ]
  },
  {
   "cell_type": "code",
   "execution_count": 33,
   "metadata": {},
   "outputs": [
    {
     "data": {
      "text/plain": "'L'"
     },
     "execution_count": 33,
     "metadata": {},
     "output_type": "execute_result"
    }
   ],
   "source": [
    "## 除自身以外数组的乘积"
   ]
  },
  {
   "cell_type": "code",
   "execution_count": null,
   "metadata": {},
   "outputs": [],
   "source": []
  }
 ]
}