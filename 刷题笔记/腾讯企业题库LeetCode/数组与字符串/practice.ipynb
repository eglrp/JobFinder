{
 "nbformat": 4,
 "nbformat_minor": 2,
 "metadata": {
  "language_info": {
   "name": "python",
   "codemirror_mode": {
    "name": "ipython",
    "version": 3
   },
   "version": "3.6.8-final"
  },
  "orig_nbformat": 2,
  "file_extension": ".py",
  "mimetype": "text/x-python",
  "name": "python",
  "npconvert_exporter": "python",
  "pygments_lexer": "ipython3",
  "version": 3,
  "kernelspec": {
   "name": "python36864bitcrawlerconda7a2fd74b1c7641f9979f7886e5f1eae8",
   "display_name": "Python 3.6.8 64-bit ('crawler': conda)"
  }
 },
 "cells": [
  {
   "cell_type": "code",
   "execution_count": 31,
   "metadata": {},
   "outputs": [
    {
     "data": {
      "text/plain": "True"
     },
     "execution_count": 31,
     "metadata": {},
     "output_type": "execute_result"
    }
   ],
   "source": [
    "## 20.有效的括号\n",
    "### 给定一个只包括 '('，')'，'{'，'}'，'['，']' 的字符串，判断字符串是否有效。\n",
    "\n",
    "class Solution:\n",
    "    def isValid(self,s:str) -> bool:\n",
    "        a = []\n",
    "        a_loc = -1\n",
    "        lens = len(s)\n",
    "        flag = True\n",
    "        for i in range(lens):\n",
    "            if len(a) == 0:\n",
    "                a.append(s[i])\n",
    "                a_loc+=1\n",
    "                \n",
    "            elif(s[i] == '(' or s[i] =='{' or s[i] =='['):\n",
    "                a.append(s[i])\n",
    "                a_loc+=1\n",
    "            elif(s[i] == ')' or s[i] =='}' or s[i] ==']'):\n",
    "                if(a[a_loc]=='(' and s[i] ==')'):\n",
    "                    del a[a_loc]\n",
    "                    a_loc-=1\n",
    "                elif(a[a_loc]=='{' and s[i] =='}'):\n",
    "                    del a[a_loc]\n",
    "                    a_loc-=1\n",
    "                elif(a[a_loc]=='[' and s[i] ==']'):\n",
    "                    del a[a_loc]\n",
    "                    a_loc-=1\n",
    "                else: return False\n",
    "        if(len(a) == 0):return True\n",
    "        else:return False\n",
    "\n",
    "t = \"[]\"\n",
    "sol = Solution()\n",
    "sol.isValid(t)"
   ]
  },
  {
   "cell_type": "code",
   "execution_count": 48,
   "metadata": {},
   "outputs": [
    {
     "name": "stdout",
     "output_type": "stream",
     "text": "[0, 1]\n"
    },
    {
     "data": {
      "text/plain": "2"
     },
     "execution_count": 48,
     "metadata": {},
     "output_type": "execute_result"
    }
   ],
   "source": [
    "## 26.删除排序数组中的重复项\n",
    "### 给定一个排序数组，你需要在原地删除重复出现的元素，使得每个元素只出现一次，返回移除后数组的新长度。不要使用额外的数组空间，你必须在原地修改输入数组并在使用 O(1) 额外空间的条件下完成。\n",
    "class Solution:\n",
    "    def removeDuplicates(self, nums: list) -> int:\n",
    "        if(len(nums) == 0):return 0\n",
    "        x = 1\n",
    "        nowcheck = nums[0]\n",
    "        len_nums = len(nums) -1\n",
    "        while(len_nums):\n",
    "            len_nums-=1\n",
    "            if(nums[x] != nowcheck):\n",
    "                nowcheck = nums[x]\n",
    "                x+=1\n",
    "            else:del nums[x]\n",
    "\n",
    "        return len(nums)\n",
    "\n",
    "t = [0,0,1,1]\n",
    "sol = Solution()\n",
    "sol.removeDuplicates(t)"
   ]
  },
  {
   "cell_type": "code",
   "execution_count": 49,
   "metadata": {},
   "outputs": [],
   "source": [
    "## 11.盛最多水的容器\n",
    "## 给定 n 个非负整数 a1，a2，...，an，每个数代表坐标中的一个点 (i, ai) 。在坐标内画 n 条垂直线，垂直线 i 的两个端点分别为 (i, ai) 和 (i, 0)。找出其中的两条线，使得它们与 x 轴共同构成的容器可以容纳最多的水\n",
    "class Solution:\n",
    "    def maxArea(self, height : list) -> int:\n",
    "        i = 0\n",
    "        j = len(L)-1\n",
    "        vol = (j-i)*(min(height[i],height[j]))\n",
    "        for line in range(len(L)-1):\n",
    "            if height[i] <= height[j]:\n",
    "                i+=1\n",
    "            else: j-=1\n",
    "            vol_temp = (j-i)*(min(height[i],height[j]))\n",
    "            vol = max(vol,vol_temp)\n",
    "            print(vol)\n",
    "        return vol\n",
    "\n",
    "## 由于面积取决于边长短的那一端假设为m，所以要想得到比当前更大的面积，边长短的那一端必须舍弃，因为如果不舍弃，高最大就是m，而随着指针的移动宽会一直减小，因此面积只会越来越小。"
   ]
  },
  {
   "cell_type": "code",
   "execution_count": 1,
   "metadata": {},
   "outputs": [
    {
     "data": {
      "text/plain": "'123'"
     },
     "execution_count": 1,
     "metadata": {},
     "output_type": "execute_result"
    }
   ],
   "source": [
    "## 43. 字符串相乘\n",
    "## 给定两个以字符串形式表示的非负整数 num1 和 num2，返回 num1 和 num2 的乘积，它们的乘积也表示为字符串形式。\n",
    "class Solution:\n",
    "    def str2int(self,s):\n",
    "        return ord(s)-ord('0')\n",
    "\n",
    "    def multiply(self, num1: str, num2: str) -> str:\n",
    "        a = num1[::-1]\n",
    "        b = num2[::-1]\n",
    "        result = 0\n",
    "    \n",
    "        for i,x in enumerate(a):\n",
    "            temp_result = 0\n",
    "            for j,y in enumerate(b):\n",
    "                temp_result += self.str2int(x) * self.str2int(y) * 10**j\n",
    "            result += temp_result * 10**i\n",
    "        return str(result)\n",
    "\n",
    "t1='123'\n",
    "t2='1'\n",
    "sol = Solution()\n",
    "sol.multiply(t1,t2)\n"
   ]
  },
  {
   "cell_type": "code",
   "execution_count": 9,
   "metadata": {},
   "outputs": [
    {
     "name": "stdout",
     "output_type": "stream",
     "text": "['o', 'l', 'l', 'e', 'h']\n"
    }
   ],
   "source": [
    "## 344. 反转字符串\n",
    "## 编写一个函数，其作用是将输入的字符串反转过来。输入字符串以字符数组 char[] 的形式给出。\n",
    "class Solution:\n",
    "    def reverseString(self, s: list) -> None:\n",
    "        \"\"\"\n",
    "        Do not return anything, modify s in-place instead.\n",
    "        \"\"\"\n",
    "        lens = len(s)\n",
    "        for i in range(int(lens/2)):\n",
    "            temp = s[i]\n",
    "            s[i] = s[lens - i - 1]\n",
    "            s[lens - i - 1] = temp\n",
    "        # print(s)\n",
    "\n",
    "t1=[\"h\",\"e\",\"l\",\"l\",\"o\"]\n",
    "sol = Solution()\n",
    "sol.reverseString(t1)"
   ]
  },
  {
   "cell_type": "code",
   "execution_count": 14,
   "metadata": {},
   "outputs": [
    {
     "data": {
      "text/plain": "\"s'teL ekat edoCteeL tsetnoc\""
     },
     "execution_count": 14,
     "metadata": {},
     "output_type": "execute_result"
    }
   ],
   "source": [
    "## 557.反转字符串中的单词 III\n",
    "## 给定一个字符串，你需要反转字符串中每个单词的字符顺序，同时仍保留空格和单词的初始顺序。\n",
    "t1 = \"Let's take LeetCode contest\"\n",
    "\n",
    "class Solution:\n",
    "    def reverseWords(self, s: str) -> str:\n",
    "        \"\"\"\n",
    "        Do not return anything, modify s in-place instead.\n",
    "        \"\"\"\n",
    "        return ' '.join(s.split(' ')[::-1])[::-1]\n",
    "\n",
    "sol = Solution()\n",
    "sol.reverseWords(t1)"
   ]
  },
  {
   "cell_type": "code",
   "execution_count": 41,
   "metadata": {},
   "outputs": [
    {
     "name": "stdout",
     "output_type": "stream",
     "text": "[1, 1, 2, 6]\n[1, 4, 12, 24]\n"
    },
    {
     "data": {
      "text/plain": "[24, 12, 8, 6]"
     },
     "execution_count": 41,
     "metadata": {},
     "output_type": "execute_result"
    }
   ],
   "source": [
    "## 238.除自身以外数组的乘积\n",
    "'''\n",
    "说明: 请不要使用除法，且在 O(n) 时间复杂度内完成此题。\n",
    "给定长度为 n 的整数数组 nums，其中 n > 1，返回输出数组 output ，其中 output[i] 等于 nums 中除 nums[i] 之外其余各元素的乘积。\n",
    "'''\n",
    "class Solution:\n",
    "    def productExceptSelf(self, nums: list) -> list:\n",
    "        lr = [1]\n",
    "        rl = [1]\n",
    "        output = []\n",
    "        lens = len(nums)\n",
    "        nowchecklr = 1\n",
    "        nowcheckrl = 1\n",
    "        for i in range(lens-1):\n",
    "            nowchecklr*=nums[i]\n",
    "            nowcheckrl*=nums[lens-i-1]\n",
    "\n",
    "            lr.append(nowchecklr)\n",
    "            rl.append(nowcheckrl)\n",
    "        print(lr)\n",
    "        print(rl)\n",
    "        for i in range(lens):\n",
    "            if(i!=0 or i!= lens-1):\n",
    "                output.append(lr[i]*rl[lens-i-1])\n",
    "            elif(i == 0):\n",
    "                output.append(rl[lens-i-1])\n",
    "            elif(i == lens-1):\n",
    "                output.append(lr[lens-2])\n",
    "        return output\n",
    "t1 = [1,2,3,4]    \n",
    "sol = Solution()\n",
    "sol.productExceptSelf(t1)"
   ]
  },
  {
   "cell_type": "code",
   "execution_count": 43,
   "metadata": {},
   "outputs": [],
   "source": [
    "## 217.存在重复元素\n",
    "class Solution:\n",
    "    def containsDuplicate(self, nums: list) -> bool:\n",
    "        return True if (len(set(nums))!=len(nums)) else False\n",
    "        "
   ]
  },
  {
   "cell_type": "code",
   "execution_count": 58,
   "metadata": {},
   "outputs": [
    {
     "data": {
      "text/plain": "[1, 2, 3, 6, 9, 8, 7, 4, 5]"
     },
     "execution_count": 58,
     "metadata": {},
     "output_type": "execute_result"
    }
   ],
   "source": [
    "## 54.螺旋矩阵\n",
    "## 给定一个包含 m x n 个元素的矩阵（m 行, n 列），请按照顺时针螺旋顺序，返回矩阵中的所有元素\n",
    "\n",
    "class Solution:\n",
    "    def spiralOrder(self, matrix) -> list:\n",
    "        res = []\n",
    "        while matrix:\n",
    "            res += matrix.pop(0)\n",
    "            matrix = list(map(list, zip(*matrix)))[::-1]\n",
    "        return res\n",
    "\n",
    "'''\n",
    "上面是在解答区看到的思路,太秀了...码一\n",
    "'''\n",
    "t1 = [\n",
    " [ 1, 2, 3 ],\n",
    " [ 4, 5, 6 ],\n",
    " [ 7, 8, 9 ]\n",
    "]  \n",
    "sol = Solution()\n",
    "sol.spiralOrder(t1)"
   ]
  },
  {
   "cell_type": "code",
   "execution_count": 55,
   "metadata": {},
   "outputs": [],
   "source": [
    "## 59.给定一个正整数 n，生成一个包含 1 到 n^2 所有元素，且元素按顺时针顺序螺旋排列的正方形矩阵。\n",
    "## 给定一个正整数 n，生成一个包含 1 到 n^2 所有元素，且元素按顺时针顺序螺旋排列的正方形矩阵。\n",
    "class Solution:\n",
    "    def generateMatrix(self, n: int) -> List[List[int]]:\n",
    "        res=[[False]*n for _ in range(n)]\n",
    "        directions=[[0,1],[1,0],[0,-1],[-1,0]]\n",
    "        x,y=0,0\n",
    "        count=0\n",
    "        \n",
    "        for i in range(1,n*n+1):\n",
    "            res[x][y]=i\n",
    "            dir_x,dir_y=directions[count][0],directions[count][1]\n",
    "            if(0<=x+dir_x<n and 0<=y+dir_y<n and not res[x+dir_x][y+dir_y]):\n",
    "                x=x+dir_x\n",
    "                y=y+dir_y\n",
    "            else:\n",
    "                count=(count+1)%4\n",
    "                x=x+directions[count][0]\n",
    "                y=y+directions[count][1]\n",
    "        return res\n",
    "\n",
    "t1 = 5\n",
    "sol = Solution()\n",
    "sol.generateMatrix(t1) "
   ]
  },
  {
   "cell_type": "code",
   "execution_count": 19,
   "metadata": {},
   "outputs": [],
   "source": [
    "## 88.合并两个有序数组\n",
    "class Solution:\n",
    "    def merge(self, nums1: list, m: int, nums2:list, n: int) -> None:\n",
    "        \"\"\"\n",
    "        Do not return anything, modify nums1 in-place instead.\n",
    "        \"\"\"\n",
    "        nums1[:] = sorted(nums1[:m] + nums2)"
   ]
  },
  {
   "cell_type": "code",
   "execution_count": 23,
   "metadata": {},
   "outputs": [
    {
     "name": "stdout",
     "output_type": "stream",
     "text": "<class 'tuple'>\n"
    },
    {
     "data": {
      "text/plain": "[1, 2, 5, 34]"
     },
     "execution_count": 23,
     "metadata": {},
     "output_type": "execute_result"
    }
   ],
   "source": [
    "t1 = [\n",
    " [ 1, 2, 3 ],\n",
    " [ 4, 5, 6 ],\n",
    " [ 7, 8, 9 ]\n",
    "] \n",
    "t1 = list(map(list, zip(*t1)))[::-1]\n",
    "\n",
    "t2 = (1,2,34,5)\n",
    "print(type(t2))\n",
    "sorted(t2)\n"
   ]
  },
  {
   "cell_type": "code",
   "execution_count": 26,
   "metadata": {},
   "outputs": [
    {
     "data": {
      "text/plain": "6"
     },
     "execution_count": 26,
     "metadata": {},
     "output_type": "execute_result"
    }
   ],
   "source": [
    "n =5\n",
    "mat = [[0 for i in range(n)] for i in range(n)]\n",
    "\n",
    "output = [[0]*n for _ in range(5)]\n",
    "m,n=divmod(25,4)\n",
    "m\n"
   ]
  },
  {
   "cell_type": "code",
   "execution_count": 29,
   "metadata": {},
   "outputs": [
    {
     "data": {
      "text/plain": "[[1, 2, 3, 4, 5],\n [16, 17, 18, 19, 6],\n [15, 24, 25, 20, 7],\n [14, 23, 22, 21, 8],\n [13, 12, 11, 10, 9]]"
     },
     "execution_count": 29,
     "metadata": {},
     "output_type": "execute_result"
    }
   ],
   "source": [
    "## 59.给定一个正整数 n，生成一个包含 1 到 n^2 所有元素，且元素按顺时针顺序螺旋排列的正方形矩阵。\n",
    "## 给定一个正整数 n，生成一个包含 1 到 n^2 所有元素，且元素按顺时针顺序螺旋排列的正方形矩阵。\n",
    "class Solution:\n",
    "    def generateMatrix(self, n: int) :\n",
    "        res=[[ i+j*n for i in range(n)] for j in range(n)]\n",
    "        output = [[0]*n for _ in range(n)]\n",
    "        check_line= []\n",
    "        while res:\n",
    "            check_line += res.pop(0)\n",
    "            res = list(map(list,zip(*res)))[::-1]\n",
    "        for i in range(n**2):\n",
    "            x,y=divmod(check_line[i],n)\n",
    "            output[x][y] = i+1\n",
    "        return output\n",
    "\n",
    "t1 = 5\n",
    "sol = Solution()\n",
    "sol.generateMatrix(t1)"
   ]
  },
  {
   "cell_type": "code",
   "execution_count": null,
   "metadata": {},
   "outputs": [],
   "source": []
  }
 ]
}