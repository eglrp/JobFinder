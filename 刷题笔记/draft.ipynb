{
 "nbformat": 4,
 "nbformat_minor": 2,
 "metadata": {
  "language_info": {
   "name": "python",
   "codemirror_mode": {
    "name": "ipython",
    "version": 3
   },
   "version": "3.6.8-final"
  },
  "orig_nbformat": 2,
  "file_extension": ".py",
  "mimetype": "text/x-python",
  "name": "python",
  "npconvert_exporter": "python",
  "pygments_lexer": "ipython3",
  "version": 3,
  "kernelspec": {
   "name": "python36864bitcrawlerconda7a2fd74b1c7641f9979f7886e5f1eae8",
   "display_name": "Python 3.6.8 64-bit ('crawler': conda)"
  }
 },
 "cells": [
  {
   "cell_type": "markdown",
   "metadata": {},
   "source": [
    "# 本文件仅作为草稿本使用"
   ],
   "execution_count": null,
   "outputs": []
  },
  {
   "cell_type": "code",
   "execution_count": null,
   "metadata": {},
   "outputs": [],
   "source": [
    "try:\n",
    "<语句>        #运行别的代码\n",
    "except <名字>：\n",
    "<语句>        #如果在try部份引发了'name'异常\n",
    "except <名字>，<数据>:\n",
    "<语句>        #如果引发了'name'异常，获得附加的数据\n",
    "else:\n",
    "<语句>        #如果没有异常发生"
   ]
  },
  {
   "cell_type": "code",
   "execution_count": null,
   "metadata": {},
   "outputs": [],
   "source": [
    "import re\n",
    "a = \"1234567890\"\n",
    "\n",
    "try:int(a)\n",
    "except:print(\"error\")\n",
    "else:print(a)"
   ]
  },
  {
   "cell_type": "markdown",
   "metadata": {},
   "source": [
    "# 在Python中，这种一边循环一边计算的机制，称为生成器：generator"
   ],
   "execution_count": null,
   "outputs": []
  },
  {
   "cell_type": "code",
   "execution_count": null,
   "metadata": {},
   "outputs": [],
   "source": [
    "info = [1,2,3]\n",
    "list(enumerate(info)) #将数组变为字典～\n",
    "info = [i+1 for i in info]#列表生成器\n",
    "info\n",
    "genrt = (i for i in range(100))\n",
    "genrt\n",
    "genrt\n",
    "print(next(genrt))\n",
    "print(next(genrt))\n",
    "# 一个一个算出来\n",
    "#或者\n",
    "for i in genrt:\n",
    "    #print(i)\n",
    " 用for循环♻️也不错\n",
    ""
   ]
  },
  {
   "cell_type": "code",
   "execution_count": null,
   "metadata": {},
   "outputs": [],
   "source": [
    "def a(n):\n",
    "    for i in range(n):\n",
    "        print(\"alex:\",i)\n",
    "        yield i\n",
    "#yield就充当了return的角色，每次调用next(),就回到上次退出的地方继续执行，非常的不占内存\n",
    "for i in a(10):\n",
    "    print (i)"
   ]
  },
  {
   "cell_type": "markdown",
   "metadata": {},
   "source": [
    "# 迭代器 or 可迭代对象\n",
    "迭代器一定是可迭代对象，比如文件流。\n",
    "但是可迭代对象不一定是迭代器。比如list，tuple，set，str"
   ],
   "execution_count": null,
   "outputs": []
  },
  {
   "cell_type": "code",
   "execution_count": 1,
   "metadata": {},
   "outputs": [
    {
     "output_type": "execute_result",
     "data": {
      "text/plain": "1"
     },
     "metadata": {},
     "execution_count": 1
    }
   ],
   "source": [
    "l=[1,2,3,4]\n",
    "it = iter(l)#转换为迭代器\n",
    "next(it)"
   ]
  },
  {
   "cell_type": "markdown",
   "metadata": {},
   "source": [
    "# 生成器就是生成一个可迭代对象，迭代器就是可以不断生成的循环\n",
    "都是为了"
   ],
   "execution_count": null,
   "outputs": []
  },
  {
   "cell_type": "code",
   "execution_count": null,
   "metadata": {},
   "outputs": [],
   "source": []
  }
 ]
}